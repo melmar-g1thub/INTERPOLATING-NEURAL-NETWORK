{
  "nbformat": 4,
  "nbformat_minor": 0,
  "metadata": {
    "colab": {
      "provenance": [],
      "collapsed_sections": [
        "epZ2G4d9pIcr",
        "_Kb_ALprfrxw"
      ],
      "authorship_tag": "ABX9TyM4bjuMP0mg+3BSsfEJUDKt",
      "include_colab_link": true
    },
    "kernelspec": {
      "name": "python3",
      "display_name": "Python 3"
    },
    "language_info": {
      "name": "python"
    }
  },
  "cells": [
    {
      "cell_type": "markdown",
      "metadata": {
        "id": "view-in-github",
        "colab_type": "text"
      },
      "source": [
        "<a href=\"https://colab.research.google.com/github/melmar-g1thub/INTERPOLATING-NEURAL-NETWORK/blob/main/final_models.ipynb\" target=\"_parent\"><img src=\"https://colab.research.google.com/assets/colab-badge.svg\" alt=\"Open In Colab\"/></a>"
      ]
    },
    {
      "cell_type": "markdown",
      "metadata": {
        "id": "eb3q75CSE8rG"
      },
      "source": [
        "FINAL EVALUATION OF TOP PERFORMING MODEL FROM RANDOM SEARCH\n",
        "\n",
        "We're gonna evaluate top 3 best combinations from Random Search for longer number of runs and evaluate its results and metrics.\n",
        "\n",
        "We'll make use of mixed precision with `autocast()` and `GradScaler`  for speeding up training on GPUs and reducing memory usage, especially for larger models."
      ]
    },
    {
      "cell_type": "markdown",
      "metadata": {
        "id": "epZ2G4d9pIcr"
      },
      "source": [
        "### RETRAIN TOP MODELS"
      ]
    },
    {
      "cell_type": "markdown",
      "metadata": {
        "id": "kMInBUz6EMcJ"
      },
      "source": [
        "We're gonna save the results for each configuration\n",
        "- best trained model as `model_top{i}.pth`\n",
        "- final metrics and hyperparamerters as `config.json`\n",
        "- losses as `train_losses.npy` and `val_losses.np` for later plotting"
      ]
    },
    {
      "cell_type": "code",
      "execution_count": null,
      "metadata": {
        "id": "Ilb_Eeh0ANPn"
      },
      "outputs": [],
      "source": [
        "# Get 3 top configurations from csv\n",
        "logfile = #path where log.csv is saved\n",
        "log_dir = os.path.dirname(logfile)\n",
        "os.makedirs(log_dir, exist_ok=True) # Ensure directory exists\n",
        "\n",
        "df = pd.read_csv(logfile)\n",
        "top3_configs = df.sort_values(by='rank_test_r2').head(3)\n",
        "print(top3_configs)\n",
        "\n",
        "# Create path to save results from training\n",
        "results = []\n",
        "base_path = # create saving path\n",
        "os.makedirs(base_path, exist_ok=True)\n",
        "device = torch.device(\"cuda\" if torch.cuda.is_available() else \"cpu\")\n",
        "\n",
        "input_size = 2\n",
        "output_size = 2\n",
        "\n",
        "# Loop for going onto the 3 configurations\n",
        "for i, (_, row) in enumerate(top3_configs.iterrows(), start=1):\n",
        "    print(f\"\\n Training configuration #{i}...\")\n",
        "\n",
        "    # Hyperparameters from the csv\n",
        "    dropout = row['dropout']\n",
        "    lr = row['learning_rate']\n",
        "    batch = int(row['batch_size'])\n",
        "    hidden = ast.literal_eval(row['hidden_layer_sizes'])\n",
        "    if isinstance(row['activation_fn'], str) and row['activation_fn'].startswith(\"<class \"):\n",
        "        act_name = row['activation_fn'].split(\"'\")[1].split('.')[-1]\n",
        "    else:\n",
        "        act_name = row['activation_fn']\n",
        "    act_fn = getattr(nn, act_name)\n",
        "\n",
        "    print(dropout, lr, batch, hidden, act_fn)\n",
        "\n",
        "    # Set dataloaders\n",
        "    train_dataset = TensorDataset(in_train_tensor, out_train_tensor)\n",
        "    train_loader = DataLoader(train_dataset, batch_size=batch, shuffle=True)\n",
        "\n",
        "    # Inicialize the model, optimizer and loss\n",
        "    model = Interpolation(input_size, output_size, hidden, dropout, act_fn).to(device)\n",
        "    optimizer = optim.Adam(model.parameters(), lr=lr)\n",
        "    loss_fn = nn.MSELoss()\n",
        "    scaler = GradScaler() # Mixed precision\n",
        "\n",
        "    # Early stopping\n",
        "    epochs = 600\n",
        "    patience = 60\n",
        "    best_val_loss = float('inf')\n",
        "    patience_counter = 0\n",
        "\n",
        "    ##############################################################\n",
        "    #TRAINING AND VALIDATION LOOP\n",
        "    ##############################################################\n",
        "    train_losses, val_losses = [], []\n",
        "    start_time = time.time()\n",
        "\n",
        "    for epoch in range(epochs):\n",
        "        model.train()\n",
        "        epoch_train_loss = 0.0\n",
        "        all_train_preds = []\n",
        "\n",
        "        # Batch training\n",
        "        for xb, yb in train_loader:\n",
        "            xb, yb = xb.to(device), yb.to(device)\n",
        "            optimizer.zero_grad()\n",
        "\n",
        "            # Forward pass\n",
        "            with autocast(device_type=device.type):\n",
        "                train_pred = model(xb)\n",
        "                train_loss = loss_fn(train_pred, yb)\n",
        "            # Backward pass and optimization\n",
        "            scaler.scale(train_loss).backward()\n",
        "            scaler.step(optimizer)\n",
        "            scaler.update()\n",
        "\n",
        "            epoch_train_loss += train_loss.item() * xb.size(0)\n",
        "            all_train_preds.append(train_pred.detach().cpu())\n",
        "\n",
        "        train_losses.append(epoch_train_loss  / len(train_loader.dataset))\n",
        "        train_pred = torch.cat(all_train_preds, dim=0).numpy()\n",
        "\n",
        "        # Validation (no batching)\n",
        "        model.eval()\n",
        "        with torch.no_grad():\n",
        "            with autocast(device_type=device.type):\n",
        "                val_pred = model(in_val_tensor.to(device))\n",
        "                val_loss = loss_fn(val_pred, out_val_tensor.to(device))\n",
        "        val_losses.append(val_loss.item())\n",
        "\n",
        "        if val_loss < best_val_loss:\n",
        "            best_val_loss = val_loss.item()\n",
        "            torch.save(model.state_dict(), os.path.join(base_path, f\"model_top{i}.pth\"))\n",
        "            patience_counter = 0\n",
        "        else:\n",
        "            patience_counter += 1\n",
        "            if patience_counter >= patience:\n",
        "                print(f\"Early stopping at epoch {epoch+1}\")\n",
        "                break\n",
        "\n",
        "        if epoch % 100 == 0:\n",
        "            print(f\"Epoch {epoch:03d} | Train Loss: {train_losses[-1]:.9f} | Val Loss: {val_losses[-1]:.9f}\")\n",
        "\n",
        "    end_time = time.time()\n",
        "    duration = (end_time - start_time) / 60\n",
        "    print(f\"Finished config #{i} in {duration:.1f} minutes with best val loss: {best_val_loss:.9f}\")\n",
        "\n",
        "    # Save configuration and loss values\n",
        "    run_path = os.path.join(base_path, f\"top{i}\")\n",
        "    os.makedirs(run_path, exist_ok=True)\n",
        "\n",
        "    with open(os.path.join(run_path, \"config.json\"), \"w\") as f:\n",
        "        json.dump({\n",
        "            'hidden_layer_sizes': hidden,\n",
        "            'activation_fn': row['activation_fn'],\n",
        "            'dropout': dropout,\n",
        "            'learning_rate': lr,\n",
        "            'batch_size': batch,\n",
        "            'best_val_loss': best_val_loss,\n",
        "            'duration_minutes': duration\n",
        "        }, f, indent=2)\n",
        "\n",
        "    np.save(os.path.join(run_path, \"train_losses.npy\"), np.array(train_losses))\n",
        "    np.save(os.path.join(run_path, \"val_losses.npy\"), np.array(val_losses))\n",
        "\n",
        "    # PLOTTING LOSS CURVES\n",
        "    plt.figure(figsize=(8, 5))\n",
        "    plt.plot(train_losses, label='Train Loss')\n",
        "    plt.plot(val_losses, label='Validation Loss')\n",
        "    plt.xlabel(\"Epoch\")\n",
        "    plt.ylabel(\"Loss (MSE)\")\n",
        "    plt.yscale(\"linear\")\n",
        "    plt.gca().yaxis.set_major_formatter(ticker.ScalarFormatter(useMathText=True))\n",
        "    plt.ticklabel_format(axis='y', style='sci', scilimits=(0, 0))\n",
        "    plt.title(f\"Loss Curves - Top {i}\")\n",
        "    plt.legend()\n",
        "    plt.grid(True, linestyle='--', alpha=0.6)\n",
        "    plt.tight_layout()\n",
        "    plt.savefig(os.path.join(run_path, \"loss_curve.png\"), dpi=300)\n",
        "    plt.close()\n",
        "\n",
        "    ##############################################################\n",
        "    # EVALUATION MODE\n",
        "    ##############################################################\n",
        "    # Load the best model state dictionary\n",
        "    model.load_state_dict(torch.load(os.path.join(base_path, f\"model_top{i}.pth\")))\n",
        "\n",
        "    model.eval()\n",
        "    with torch.no_grad():\n",
        "        with autocast(device_type=device.type):\n",
        "            test_pred = model(in_test_tensor.to(device))\n",
        "            test_loss = loss_fn(test_pred, out_test_tensor.to(device))\n",
        "            test_train = model(in_train_tensor.to(device))\n",
        "\n",
        "    with open(os.path.join(run_path, \"test_metrics.json\"), \"w\") as f:\n",
        "        json.dump({'test_loss': test_loss.item()}, f, indent=2)\n",
        "    print(f\" Final Test Loss for config #{i}: {test_loss.item():.9f}\")\n",
        "    np.save(os.path.join(run_path, \"test_train.npy\"), np.array(test_train.cpu().detach().numpy()))",
        "    np.save(os.path.join(run_path, \"test_val.npy\"), np.array(test_val.cpu().detach().numpy()))",
        "    np.save(os.path.join(run_path, \"test_pred.npy\"), np.array(test_pred.cpu().detach().numpy()))",
      ]
    },
    {
      "cell_type": "markdown",
      "metadata": {
        "id": "_Kb_ALprfrxw"
      },
      "source": [
        "### MODEL'S STATISTICS"
      ]
    },
    {
      "cell_type": "markdown",
      "metadata": {
        "id": "d6qQe1CPS8z0"
      },
      "source": [
        "To evaluate the accuracy of the neural network interpolation, we computed mean squared error (MSE), mean absolute error (MAE), and coefficient of determination (R²) for both pressure (P) and entropy (S) across the training, validation, and test datasets."
      ]
    },
    {
      "cell_type": "code",
      "execution_count": null,
      "metadata": {
        "id": "zjA2mHkkoowD"
      },
      "outputs": [],
      "source": [
        "top_path = #path where data is saved\n",
        "os.makedirs(top_path, exist_ok=True)\n",
        "\n",
        "train_predictions = np.load(os.path.join(top_path, \"train_pred.npy\"))\n",
        "val_predictions   = np.load(os.path.join(top_path, \"val_pred.npy\"))\n",
        "test_predictions  = np.load(os.path.join(top_path, \"test_pred.npy\"))"
      ]
    },
    {
      "cell_type": "code",
      "execution_count": null,
      "metadata": {
        "id": "BtBbIY0wYVk3"
      },
      "outputs": [],
      "source": [
        "def evaluate_actual_predictions(predictions, real_output, scaler_q1, scaler_q2):\n",
        "    if isinstance(predictions, torch.Tensor):\n",
        "        pred_np = predictions.cpu().detach().numpy()\n",
        "    else:\n",
        "        pred_np = predictions\n",
        "\n",
        "    # We splitted before normalizing, but the predictions need to be inverse transformed\n",
        "    P_true = real_output[:, 0]\n",
        "    S_true = real_output[:, 1]\n",
        "    P_pred = scaler_q1.inverse_transform(pred_np[:, 0].reshape(-1, 1)).flatten()\n",
        "    S_pred = scaler_q2.inverse_transform(pred_np[:, 1].reshape(-1, 1)).flatten()\n",
        "\n",
        "    results = {\n",
        "    'P_MSE': mean_squared_error(P_true, P_pred),\n",
        "    'P_MAE': mean_absolute_error(P_true, P_pred),\n",
        "    'P_R2': r2_score(P_true, P_pred),\n",
        "    'S_MSE': mean_squared_error(S_true, S_pred),\n",
        "    'S_MAE': mean_absolute_error(S_true, S_pred),\n",
        "    'S_R2': r2_score(S_true, S_pred),\n",
        "    }\n",
        "\n",
        "    print(f\"Pressure P [MeV/fm³]\")\n",
        "    print(f\"  MSE : {results['P_MSE']:.4e}\")\n",
        "    print(f\"  MAE : {results['P_MAE']:.4e}\")\n",
        "    print(f\"  R²  : {np.abs(results['P_R2']):.4f}\")\n",
        "\n",
        "    print(f\"Entropy S [1/fm³]\")\n",
        "    print(f\"  MSE : {results['S_MSE']:.4e}\")\n",
        "    print(f\"  MAE : {results['S_MAE']:.4e}\")\n",
        "    print(f\"  R²  : {np.abs(results['S_R2']):.4f}\")\n",
        "\n",
        "    return results, P_true, P_pred, S_true, S_pred"
      ]
    },
    {
      "cell_type": "code",
      "execution_count": null,
      "metadata": {
        "id": "od08gObbc5KS"
      },
      "outputs": [],
      "source": [
        "print(f\" --- Metrics for training data set ---\")\n",
        "train_metrics, P_train_true, P_train_pred, S_train_true, S_train_pred = evaluate_actual_predictions(\n",
        "     predictions = train_predictions,\n",
        "     real_output = out_train,\n",
        "     scaler_q1 = scaler_P,\n",
        "     scaler_q2 = scaler_S)\n",
        "\n",
        "print(f\"\\n --- Metrics for validation data set ---\")\n",
        "val_metrics, P_val_true, P_val_pred, S_val_true, S_val_pred = evaluate_actual_predictions(\n",
        "    predictions = val_predictions,\n",
        "    real_output = out_val,\n",
        "     scaler_q1 = scaler_P,\n",
        "     scaler_q2 = scaler_S)\n",
        "\n",
        "print(f\"\\n --- Metrics for evaluation data set ---\")\n",
        "test_metrics, P_test_true, P_test_pred, S_test_true, S_test_pred = evaluate_actual_predictions(\n",
        "    predictions = test_predictions,\n",
        "    real_output = out_test,\n",
        "     scaler_q1 = scaler_P,\n",
        "     scaler_q2 = scaler_S)"
      ]
    }
  ]
}
