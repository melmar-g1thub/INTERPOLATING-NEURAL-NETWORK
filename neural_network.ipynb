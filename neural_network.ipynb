{
  "nbformat": 4,
  "nbformat_minor": 0,
  "metadata": {
    "colab": {
      "provenance": [],
      "authorship_tag": "ABX9TyNCIvuMRL2xTTFVzwH7cFsw",
      "include_colab_link": true
    },
    "kernelspec": {
      "name": "python3",
      "display_name": "Python 3"
    },
    "language_info": {
      "name": "python"
    }
  },
  "cells": [
    {
      "cell_type": "markdown",
      "metadata": {
        "id": "view-in-github",
        "colab_type": "text"
      },
      "source": [
        "<a href=\"https://colab.research.google.com/github/melmar-g1thub/INTERPOLATING-NEURAL-NETWORK/blob/main/neural_network.ipynb\" target=\"_parent\"><img src=\"https://colab.research.google.com/assets/colab-badge.svg\" alt=\"Open In Colab\"/></a>"
      ]
    },
    {
      "cell_type": "markdown",
      "source": [
        "DEFINE THE FEED FORWARD NEURAL NETWORK\n",
        "\n",
        "This class defines a fully-connected feedforward neural network for regression tasks, designed to perform smooth interpolation between input-output pairs.\n",
        "\n",
        "Features:\n",
        "- Flexible architecture: customizable number and size of hidden layers.\n",
        "- Support for arbitrary activation functions (passed as class type).\n",
        "- Optional dropout regularization between layers.\n",
        "- Final output layer is linear, suitable for continuous regression outputs.\n",
        "\n",
        "\n",
        "Intended for use with Skorch or PyTorch-based training pipelines."
      ],
      "metadata": {
        "id": "6U99ycYgsBSG"
      }
    },
    {
      "cell_type": "code",
      "execution_count": null,
      "metadata": {
        "id": "ViE1VNNsLJ-Q"
      },
      "outputs": [],
      "source": [
        "class Interpolation(nn.Module):\n",
        "    def __init__(self, in_size, out_size, hidden_layer_sizes, dropout, activation):\n",
        "        super(Interpolation, self).__init__()\n",
        "        self.dropout_rate = dropout\n",
        "        self.activation = activation() # Skorch passes the class, so we instantiate it\n",
        "\n",
        "        layers = []\n",
        "        current_in_size = in_size\n",
        "\n",
        "        # Dynamically build hidden layers\n",
        "        for hidden_size in hidden_layer_sizes:\n",
        "            layers.append(nn.Linear(current_in_size, hidden_size))\n",
        "            layers.append(self.activation)\n",
        "            if self.dropout_rate > 0:\n",
        "                layers.append(nn.Dropout(self.dropout_rate))\n",
        "            current_in_size = hidden_size\n",
        "\n",
        "        # Output layer (linear for regression)\n",
        "        layers.append(nn.Linear(current_in_size, out_size))\n",
        "\n",
        "        self.network = nn.Sequential(*layers)\n",
        "\n",
        "    def forward(self, x):\n",
        "        return self.network(x)"
      ]
    }
  ]
}